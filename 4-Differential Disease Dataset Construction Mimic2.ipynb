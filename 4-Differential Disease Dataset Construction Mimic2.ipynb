{
 "cells": [
  {
   "cell_type": "markdown",
   "metadata": {},
   "source": [
    "# Extracting MIMIC Data\n",
    "\n",
    "## Environment Setup"
   ]
  },
  {
   "cell_type": "code",
   "execution_count": 1,
   "metadata": {},
   "outputs": [],
   "source": [
    "import time\n",
    "import pymysql\n",
    "import getpass\n",
    "import pickle as pkl\n",
    "import pandas as pd\n",
    "from _collections import OrderedDict"
   ]
  },
  {
   "cell_type": "markdown",
   "metadata": {
    "collapsed": true
   },
   "source": [
    "## Query List\n",
    "\n",
    "#### Construct a list of queries that we will want to run."
   ]
  },
  {
   "cell_type": "code",
   "execution_count": 10,
   "metadata": {},
   "outputs": [],
   "source": [
    "queryList = OrderedDict([('PNA', './queries/PNA-Mimic.sql'), ('CHF','./queries/CHF-Mimic.sql'), ('COPD','./queries/CHF-Mimic.sql')])"
   ]
  },
  {
   "cell_type": "code",
   "execution_count": 2,
   "metadata": {},
   "outputs": [],
   "source": [
    "queryList = OrderedDict([('PNA', './queries/PNA-local.sql'), ('CHF','./queries/CHF-local.sql'), ('COPD','./queries/COPD-local.sql')])"
   ]
  },
  {
   "cell_type": "markdown",
   "metadata": {},
   "source": [
    "## MIMIC Database Connection\n",
    "\n",
    "#### Make a connection to the MIMIC database and get a cursor for record processing."
   ]
  },
  {
   "cell_type": "code",
   "execution_count": null,
   "metadata": {},
   "outputs": [],
   "source": [
    "conn = pymysql.connect(host=\"mysql\", \n",
    "                       port = 3306, user=\"jovyan\", \n",
    "                       passwd=getpass.getpass(\"Enter MySQL passwd for jovyan\"), db='mimic2')\n",
    "cur = conn.cursor()"
   ]
  },
  {
   "cell_type": "code",
   "execution_count": 3,
   "metadata": {},
   "outputs": [
    {
     "name": "stdout",
     "output_type": "stream",
     "text": [
      "Enter MySQL passwd ········\n"
     ]
    }
   ],
   "source": [
    "conn = pymysql.connect(host=\"localhost\", \n",
    "                       port = 3306, user=\"jferraro\", \n",
    "                       passwd=getpass.getpass(\"Enter MySQL passwd \"), db='mimic')\n",
    "cur = conn.cursor()"
   ]
  },
  {
   "cell_type": "markdown",
   "metadata": {},
   "source": [
    "## Retrieve our Data\n",
    "\n",
    "#### For each query we will retrieve the data and build a ordered dictionary containing our data. Were use an ordered dictionary because we want to keep the Pneumonia, Congestive Heart Failure, and COPD cases together."
   ]
  },
  {
   "cell_type": "code",
   "execution_count": 4,
   "metadata": {},
   "outputs": [
    {
     "name": "stdout",
     "output_type": "stream",
     "text": [
      "execute query: PNA\n",
      "Wall time: 11.9 s\n",
      "execute query: CHF\n",
      "Wall time: 4.27 s\n",
      "execute query: COPD\n",
      "Wall time: 2.36 s\n",
      "                                                text label\n",
      "0  [**2996-12-2**] 10:25 AM\\n CT CHEST W/O CONTRA...   PNA\n",
      "1  [**3201-9-21**] 4:50 PM\\n CT CHEST W/CONTRAST ...   PNA\n",
      "2  [**3299-6-23**] 5:06 PM\\n CT CHEST W/CONTRAST ...   PNA\n",
      "3  [**3186-6-14**] 2:54 PM\\n CT CHEST W/CONTRAST ...   PNA\n",
      "4  [**2500-1-17**] 9:41 PM\\n CT CHEST W/O CONTRAS...   PNA\n"
     ]
    }
   ],
   "source": [
    "queries = []\n",
    "\n",
    "for key in queryList:\n",
    "    count = 1\n",
    "    file = open(queryList[key], 'r')\n",
    "    query = file.read()\n",
    "    print(\"execute query: \" + key)\n",
    "    %time cur.execute(query)\n",
    "    queries.append(query)\n",
    "\n",
    "corpus = pd.concat([pd.read_sql_query(q, conn) for q in queries])\n",
    "print(corpus.head())\n",
    "\n",
    "conn.close()"
   ]
  },
  {
   "cell_type": "markdown",
   "metadata": {},
   "source": [
    "## Safestore the Data\n",
    "\n",
    "#### We will serialize the ordered dictionary structure out to disk. This way we will not have to rebuild this data structure when we want to use our data. It is a convenience thing...."
   ]
  },
  {
   "cell_type": "code",
   "execution_count": 5,
   "metadata": {},
   "outputs": [
    {
     "name": "stdout",
     "output_type": "stream",
     "text": [
      "Done!\n"
     ]
    }
   ],
   "source": [
    "file = open('differential-corpus.pkl','wb')\n",
    "pkl.dump(corpus, file)\n",
    "file.close()\n",
    "print(\"Done!\")"
   ]
  },
  {
   "cell_type": "code",
   "execution_count": null,
   "metadata": {},
   "outputs": [],
   "source": []
  }
 ],
 "metadata": {
  "kernelspec": {
   "display_name": "Python 3",
   "language": "python",
   "name": "python3"
  },
  "language_info": {
   "codemirror_mode": {
    "name": "ipython",
    "version": 3
   },
   "file_extension": ".py",
   "mimetype": "text/x-python",
   "name": "python",
   "nbconvert_exporter": "python",
   "pygments_lexer": "ipython3",
   "version": "3.6.7"
  },
  "widgets": {
   "state": {},
   "version": "1.1.1"
  }
 },
 "nbformat": 4,
 "nbformat_minor": 1
}
